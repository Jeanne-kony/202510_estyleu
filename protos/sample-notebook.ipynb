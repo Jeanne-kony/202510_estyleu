{
 "cells": [
  {
   "cell_type": "code",
   "execution_count": null,
   "id": "0",
   "metadata": {
    "_cell_guid": "b1076dfc-b9ad-4769-8c92-a6c4dae69d19",
    "_uuid": "8f2839f25d086af736a60e9eeb907d3b93b6e0e5",
    "papermill": {
     "duration": 3.693668,
     "end_time": "2025-10-14T07:11:40.911094",
     "exception": false,
     "start_time": "2025-10-14T07:11:37.217426",
     "status": "completed"
    },
    "tags": []
   },
   "outputs": [],
   "source": [
    "import numpy as np\n",
    "import pandas as pd\n",
    "from xgboost import XGBRegressor\n",
    "from sklearn.metrics import mean_squared_log_error\n",
    "from sklearn.model_selection import train_test_split\n",
    "from sklearn.preprocessing import LabelEncoder, StandardScaler\n",
    "import matplotlib.pyplot as plt\n",
    "import seaborn as sns\n",
    "from sklearn.model_selection import KFold\n",
    "from scipy import stats\n",
    "from scipy.stats import norm"
   ]
  },
  {
   "cell_type": "markdown",
   "id": "1",
   "metadata": {
    "papermill": {
     "duration": 0.002046,
     "end_time": "2025-10-14T07:11:40.915887",
     "exception": false,
     "start_time": "2025-10-14T07:11:40.913841",
     "status": "completed"
    },
    "tags": []
   },
   "source": [
    "## Read the data"
   ]
  },
  {
   "cell_type": "code",
   "execution_count": null,
   "id": "2",
   "metadata": {
    "papermill": {
     "duration": 6.3921,
     "end_time": "2025-10-14T07:11:47.310233",
     "exception": false,
     "start_time": "2025-10-14T07:11:40.918133",
     "status": "completed"
    },
    "tags": []
   },
   "outputs": [],
   "source": [
    "train = pd.read_csv(\"../input/estyle-community-competition-2025/train.csv\")\n",
    "test = pd.read_csv(\"../input/estyle-community-competition-2025/test.csv\")"
   ]
  },
  {
   "cell_type": "code",
   "execution_count": null,
   "id": "3",
   "metadata": {},
   "outputs": [],
   "source": [
    "train[\"TradePrice\"].describe()"
   ]
  },
  {
   "cell_type": "code",
   "execution_count": null,
   "id": "4",
   "metadata": {},
   "outputs": [],
   "source": [
    "plt.figure()\n",
    "sns.histplot(train[\"TradePrice\"], bins=100, kde=False, log_scale=(True, False))\n",
    "plt.xlabel(\"TradePrice (log scale)\")\n",
    "plt.ylabel(\"Count\")\n",
    "plt.tight_layout()\n",
    "plt.show()"
   ]
  },
  {
   "cell_type": "code",
   "execution_count": null,
   "id": "5",
   "metadata": {},
   "outputs": [],
   "source": [
    "#skewness and kurtosis\n",
    "print(\"Skewness: %f\" % train['TradePrice'].skew())\n",
    "print(\"Kurtosis: %f\" % train['TradePrice'].kurt())"
   ]
  },
  {
   "cell_type": "code",
   "execution_count": null,
   "id": "6",
   "metadata": {},
   "outputs": [],
   "source": [
    "fig, ax = plt.subplots()\n",
    "ax.scatter(x = train['Area'], y = train['TradePrice'])\n",
    "plt.ylabel('TradePrice', fontsize=13)\n",
    "plt.xlabel('Area', fontsize=13)\n",
    "plt.show()\n"
   ]
  },
  {
   "cell_type": "code",
   "execution_count": null,
   "id": "7",
   "metadata": {},
   "outputs": [],
   "source": [
    "#Deleting outliers\n",
    "train = train.drop(train[(train['TotalFloorArea']>4000) & (train['TradePrice']<300000)].index)\n",
    "\n",
    "#Check the graphic again\n",
    "fig, ax = plt.subplots()\n",
    "ax.scatter(train['TotalFloorArea'], train['TradePrice'])\n",
    "plt.ylabel('TradePrice', fontsize=13)\n",
    "plt.xlabel('TotalFloorArea', fontsize=13)\n",
    "plt.show()"
   ]
  },
  {
   "cell_type": "code",
   "execution_count": null,
   "id": "8",
   "metadata": {},
   "outputs": [],
   "source": [
    "# 対数変換後の関係を確認\n",
    "plt.scatter(np.log1p(train[\"Area\"]), np.log1p(train[\"TradePrice\"]))\n",
    "plt.xlabel(\"log(Area)\")\n",
    "plt.ylabel(\"log(TradePrice)\")\n",
    "plt.title(\"Log-scaled Relationship\")\n",
    "\n",
    "# フラグ別の比較\n",
    "sns.boxplot(x=\"AreaIsGreaterFlag\", y=\"TradePrice\", data=train)\n"
   ]
  },
  {
   "cell_type": "code",
   "execution_count": null,
   "id": "9",
   "metadata": {},
   "outputs": [],
   "source": [
    "#box plot overallqual/saleprice\n",
    "var = 'FloorAreaRatio'\n",
    "data = pd.concat([np.log1p(train['TradePrice']), train[var]], axis=1)\n",
    "f, ax = plt.subplots(figsize=(8, 6))\n",
    "fig = sns.boxplot(x=var, y=\"TradePrice\", data=data)\n",
    "plt.ylabel('log(TradePrice)')\n",
    "plt.xticks(rotation=90);f"
   ]
  },
  {
   "cell_type": "code",
   "execution_count": null,
   "id": "10",
   "metadata": {},
   "outputs": [],
   "source": [
    "var = 'BuildingYear'\n",
    "data = pd.concat([np.log1p(train['TradePrice']), train[var]], axis=1)\n",
    "f, ax = plt.subplots(figsize=(16, 8))\n",
    "fig = sns.boxplot(x=var, y=\"TradePrice\", data=data)\n",
    "plt.ylabel('log(TradePrice)')\n",
    "plt.xticks(rotation=90);"
   ]
  },
  {
   "cell_type": "code",
   "execution_count": null,
   "id": "11",
   "metadata": {},
   "outputs": [],
   "source": [
    "#correlation matrix\n",
    "corrmat = train.select_dtypes(include=['number']).corr()\n",
    "f, ax = plt.subplots(figsize=(12, 9))\n",
    "sns.heatmap(corrmat, vmax=.8, square=True);"
   ]
  },
  {
   "cell_type": "code",
   "execution_count": null,
   "id": "12",
   "metadata": {},
   "outputs": [],
   "source": [
    "#saleprice correlation matrix\n",
    "k = 50 #number of variables for heatmap\n",
    "cols = corrmat.nlargest(k, 'TradePrice')['TradePrice'].index\n",
    "cm = np.corrcoef(train[cols].values.T)\n",
    "sns.set(font_scale=1.25)\n",
    "hm = sns.heatmap(cm, cbar=True, annot=True, square=True, fmt='.2f', annot_kws={'size': 10}, yticklabels=cols.values, xticklabels=cols.values)\n",
    "plt.show()"
   ]
  },
  {
   "cell_type": "code",
   "execution_count": null,
   "id": "13",
   "metadata": {},
   "outputs": [],
   "source": [
    "sns.set()\n",
    "sns.pairplot(train.select_dtypes(include=['number']).sample(1000))\n",
    "plt.show()"
   ]
  },
  {
   "cell_type": "code",
   "execution_count": null,
   "id": "14",
   "metadata": {},
   "outputs": [],
   "source": [
    "#missing data\n",
    "total = train.isnull().sum().sort_values(ascending=False)\n",
    "percent = (train.isnull().sum()/train.isnull().count()).sort_values(ascending=False)\n",
    "missing_data = pd.concat([total, percent], axis=1, keys=['Total', 'Percent'])\n",
    "missing_data.head(40)"
   ]
  },
  {
   "cell_type": "code",
   "execution_count": null,
   "id": "15",
   "metadata": {},
   "outputs": [],
   "source": [
    "print(train[\"Remarks\"].value_counts())"
   ]
  },
  {
   "cell_type": "code",
   "execution_count": null,
   "id": "16",
   "metadata": {},
   "outputs": [],
   "source": [
    "#standardizing data\n",
    "saleprice_scaled = StandardScaler().fit_transform(train['TradePrice'].values.reshape(-1, 1))\n",
    "low_range = saleprice_scaled[saleprice_scaled[:,0].argsort()][:10]\n",
    "high_range= saleprice_scaled[saleprice_scaled[:,0].argsort()][-10:]\n",
    "print('outer range (low) of the distribution:')\n",
    "print(low_range)\n",
    "print('\\nouter range (high) of the distribution:')\n",
    "print(high_range)"
   ]
  },
  {
   "cell_type": "code",
   "execution_count": null,
   "id": "17",
   "metadata": {},
   "outputs": [],
   "source": [
    "#histogram and normal probability plot\n",
    "sns.distplot(train['TradePrice'], fit=norm);\n",
    "fig = plt.figure()\n",
    "res = stats.probplot(train['TradePrice'], plot=plt)"
   ]
  },
  {
   "cell_type": "code",
   "execution_count": null,
   "id": "18",
   "metadata": {
    "papermill": {
     "duration": 0.702402,
     "end_time": "2025-10-14T07:11:48.015258",
     "exception": false,
     "start_time": "2025-10-14T07:11:47.312856",
     "status": "completed"
    },
    "tags": []
   },
   "outputs": [],
   "source": [
    "X_train = train.drop(\"TradePrice\", axis=1)\n",
    "y_train = train[\"TradePrice\"]\n",
    "X_test = test.copy()\n",
    "\n",
    "X_concat = pd.concat([X_train, X_test]).select_dtypes(include=[\"number\"])"
   ]
  },
  {
   "cell_type": "markdown",
   "id": "19",
   "metadata": {},
   "source": []
  },
  {
   "cell_type": "markdown",
   "id": "20",
   "metadata": {
    "papermill": {
     "duration": 0.001938,
     "end_time": "2025-10-14T07:11:48.019562",
     "exception": false,
     "start_time": "2025-10-14T07:11:48.017624",
     "status": "completed"
    },
    "tags": []
   },
   "source": [
    "## No feature engineering"
   ]
  },
  {
   "cell_type": "code",
   "execution_count": null,
   "id": "21",
   "metadata": {
    "papermill": {
     "duration": 0.295187,
     "end_time": "2025-10-14T07:11:48.316737",
     "exception": false,
     "start_time": "2025-10-14T07:11:48.021550",
     "status": "completed"
    },
    "tags": []
   },
   "outputs": [],
   "source": [
    "X_train_id = X_train[\"Id\"]\n",
    "X_test_id = X_test[\"Id\"]\n",
    "X_train = X_concat[X_concat[\"Id\"].isin(X_train_id)].fillna(-9999)\n",
    "X_test = X_concat[X_concat[\"Id\"].isin(X_test_id)].fillna(-9999)\n",
    "X_train.drop(\"Id\", axis=1, inplace=True)\n",
    "X_test.drop(\"Id\", axis=1, inplace=True)"
   ]
  },
  {
   "cell_type": "markdown",
   "id": "22",
   "metadata": {
    "papermill": {
     "duration": 0.002081,
     "end_time": "2025-10-14T07:11:48.321446",
     "exception": false,
     "start_time": "2025-10-14T07:11:48.319365",
     "status": "completed"
    },
    "tags": []
   },
   "source": [
    "## Training"
   ]
  },
  {
   "cell_type": "code",
   "execution_count": null,
   "id": "23",
   "metadata": {
    "papermill": {
     "duration": 1.162751,
     "end_time": "2025-10-14T07:11:49.486413",
     "exception": false,
     "start_time": "2025-10-14T07:11:48.323662",
     "status": "completed"
    },
    "tags": []
   },
   "outputs": [],
   "source": [
    "X_train_, X_val, y_train_, y_val = train_test_split(X_train, y_train, random_state=2024)\n",
    "\n",
    "model = XGBRegressor(learning_rate=1.0, random_state=2024)\n",
    "model.fit(X_train_, np.log1p(y_train_))\n",
    "y_pred_val = np.expm1(model.predict(X_val))\n",
    "\n",
    "score = mean_squared_log_error(y_val, y_pred_val) ** 0.5\n",
    "print(f\"RMSLE score: {score:.5f}\")"
   ]
  },
  {
   "cell_type": "markdown",
   "id": "24",
   "metadata": {
    "papermill": {
     "duration": 0.002599,
     "end_time": "2025-10-14T07:11:49.492066",
     "exception": false,
     "start_time": "2025-10-14T07:11:49.489467",
     "status": "completed"
    },
    "tags": []
   },
   "source": [
    "## Make a submission file"
   ]
  },
  {
   "cell_type": "code",
   "execution_count": null,
   "id": "25",
   "metadata": {
    "papermill": {
     "duration": 1.557033,
     "end_time": "2025-10-14T07:11:51.051799",
     "exception": false,
     "start_time": "2025-10-14T07:11:49.494766",
     "status": "completed"
    },
    "tags": []
   },
   "outputs": [],
   "source": [
    "y_pred_test = np.expm1(model.predict(X_test))\n",
    "submission = pd.DataFrame({\"Id\": X_test_id, \"TradePrice\": y_pred_test})\n",
    "submission.to_csv(\"./benchmark.csv\", index=False)"
   ]
  },
  {
   "cell_type": "code",
   "execution_count": null,
   "id": "26",
   "metadata": {
    "papermill": {
     "duration": 0.002076,
     "end_time": "2025-10-14T07:11:51.056443",
     "exception": false,
     "start_time": "2025-10-14T07:11:51.054367",
     "status": "completed"
    },
    "tags": []
   },
   "outputs": [],
   "source": []
  }
 ],
 "metadata": {
  "kaggle": {
   "accelerator": "none",
   "dataSources": [
    {
     "databundleVersionId": 13943238,
     "sourceId": 115579,
     "sourceType": "competition"
    }
   ],
   "dockerImageVersionId": 31153,
   "isGpuEnabled": false,
   "isInternetEnabled": true,
   "language": "python",
   "sourceType": "notebook"
  },
  "kernelspec": {
   "display_name": "base",
   "language": "python",
   "name": "python3"
  },
  "language_info": {
   "codemirror_mode": {
    "name": "ipython",
    "version": 3
   },
   "file_extension": ".py",
   "mimetype": "text/x-python",
   "name": "python",
   "nbconvert_exporter": "python",
   "pygments_lexer": "ipython3",
   "version": "3.12.7"
  },
  "papermill": {
   "default_parameters": {},
   "duration": 19.274689,
   "end_time": "2025-10-14T07:11:51.777467",
   "environment_variables": {},
   "exception": null,
   "input_path": "__notebook__.ipynb",
   "output_path": "__notebook__.ipynb",
   "parameters": {},
   "start_time": "2025-10-14T07:11:32.502778",
   "version": "2.6.0"
  }
 },
 "nbformat": 4,
 "nbformat_minor": 5
}
