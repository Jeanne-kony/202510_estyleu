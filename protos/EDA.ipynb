{
 "cells": [
  {
   "cell_type": "code",
   "execution_count": null,
   "id": "0",
   "metadata": {},
   "outputs": [],
   "source": [
    "import numpy as np\n",
    "import pandas as pd\n",
    "from xgboost import XGBRegressor\n",
    "from sklearn.metrics import mean_squared_log_error\n",
    "from sklearn.model_selection import train_test_split\n",
    "from sklearn.preprocessing import LabelEncoder, StandardScaler\n",
    "import matplotlib.pyplot as plt\n",
    "import seaborn as sns\n",
    "from sklearn.model_selection import KFold\n",
    "from scipy import stats\n",
    "from scipy.stats import norm"
   ]
  },
  {
   "cell_type": "code",
   "execution_count": null,
   "id": "1",
   "metadata": {},
   "outputs": [],
   "source": [
    "df = pd.read_csv(\"../input/estyle-community-competition-2025/train.csv\")\n",
    "test = pd.read_csv(\"../input/estyle-community-competition-2025/test.csv\")"
   ]
  },
  {
   "cell_type": "code",
   "execution_count": null,
   "id": "2",
   "metadata": {},
   "outputs": [],
   "source": [
    "# データの基本情報を確認\n",
    "print(\"=== Train Data Shape ===\")\n",
    "print(f\"Train shape: {df.shape}\")\n",
    "print(f\"Test shape: {test.shape}\")\n",
    "print(\"\\n=== Train Data Info ===\")\n",
    "print(df.info())\n",
    "print(\"\\n=== Missing Values Summary ===\")\n",
    "missing_df = pd.DataFrame({\n",
    "    'Column': df.columns,\n",
    "    'Missing_Count': df.isnull().sum(),\n",
    "    'Missing_Percentage': (df.isnull().sum() / len(df) * 100).round(2),\n",
    "    'Dtype': df.dtypes\n",
    "})\n",
    "missing_df = missing_df[missing_df['Missing_Count'] > 0].sort_values('Missing_Percentage', ascending=False)\n",
    "print(missing_df)"
   ]
  },
  {
   "cell_type": "code",
   "execution_count": null,
   "id": "3",
   "metadata": {},
   "outputs": [],
   "source": [
    "# カテゴリカル変数のユニーク値数とサンプル値を確認\n",
    "categorical_cols = df.select_dtypes(include=['object']).columns\n",
    "print(\"=== Categorical Variables Analysis ===\\n\")\n",
    "for col in categorical_cols:\n",
    "    unique_count = df[col].nunique()\n",
    "    top_values = df[col].value_counts().head(5)\n",
    "    print(f\"\\n{col}:\")\n",
    "    print(f\"  Unique values: {unique_count}\")\n",
    "    print(f\"  Top 5 values:\\n{top_values}\")\n",
    "    print(f\"  Sample values: {df[col].dropna().unique()[:10].tolist()}\")"
   ]
  },
  {
   "cell_type": "code",
   "execution_count": null,
   "id": "4",
   "metadata": {},
   "outputs": [],
   "source": [
    "# 数値変数の統計情報と分布\n",
    "numeric_cols = df.select_dtypes(include=['int64', 'float64']).columns\n",
    "print(\"=== Numeric Variables Statistics ===\\n\")\n",
    "print(df[numeric_cols].describe())\n",
    "\n",
    "# Target変数の分布を確認\n",
    "print(\"\\n=== Target Variable (TradePrice) Distribution ===\")\n",
    "print(f\"Skewness: {df['TradePrice'].skew():.4f}\")\n",
    "print(f\"Kurtosis: {df['TradePrice'].kurtosis():.4f}\")\n",
    "print(f\"Log-transformed Skewness: {np.log1p(df['TradePrice']).skew():.4f}\")"
   ]
  },
  {
   "cell_type": "code",
   "execution_count": null,
   "id": "5",
   "metadata": {},
   "outputs": [],
   "source": [
    "# 欠損値のパターンを分析\n",
    "# 1. Type別の欠損値パターン\n",
    "print(\"=== Missing Values Pattern by Type ===\\n\")\n",
    "for col in missing_df['Column'].head(10):  # 欠損の多い上位10カラム\n",
    "    print(f\"\\n{col} missing rate by Type:\")\n",
    "    type_missing = df.groupby('Type')[col].apply(lambda x: x.isnull().sum() / len(x) * 100)\n",
    "    print(type_missing.sort_values(ascending=False))\n"
   ]
  },
  {
   "cell_type": "code",
   "execution_count": null,
   "id": "6",
   "metadata": {},
   "outputs": [],
   "source": [
    "# 重要な特徴量と欠損値の関係性を分析\n",
    "print(\"=== Correlation between Missing Values and Target ===\\n\")\n",
    "\n",
    "# 欠損値フラグを作成してTradePriceとの相関を確認\n",
    "for col in missing_df['Column'].head(10):\n",
    "    if col != 'TradePrice':\n",
    "        missing_flag = df[col].isnull().astype(int)\n",
    "        \n",
    "        # 欠損あり/なしでのTradePriceの平均値の差\n",
    "        price_with_value = df[df[col].notnull()]['TradePrice'].mean()\n",
    "        price_without_value = df[df[col].isnull()]['TradePrice'].mean()\n",
    "        diff_pct = ((price_with_value - price_without_value) / price_without_value * 100) if price_without_value > 0 else 0\n",
    "        \n",
    "        print(f\"{col}:\")\n",
    "        print(f\"  Avg price with value: ¥{price_with_value:,.0f}\")\n",
    "        print(f\"  Avg price without value: ¥{price_without_value:,.0f}\")\n",
    "        print(f\"  Difference: {diff_pct:+.1f}%\\n\")"
   ]
  },
  {
   "cell_type": "code",
   "execution_count": null,
   "id": "7",
   "metadata": {},
   "outputs": [],
   "source": [
    "# Train/Testでの欠損値パターンの違いを確認\n",
    "print(\"=== Missing Values Comparison: Train vs Test ===\\n\")\n",
    "comparison_data = []\n",
    "for col in df.columns:\n",
    "    if col in test.columns:\n",
    "        train_missing = (df[col].isnull().sum() / len(df) * 100)\n",
    "        test_missing = (test[col].isnull().sum() / len(test) * 100)\n",
    "        comparison_data.append({\n",
    "            'Column': col,\n",
    "            'Train_Missing_%': train_missing,\n",
    "            'Test_Missing_%': test_missing,\n",
    "            'Difference': test_missing - train_missing\n",
    "        })\n",
    "\n",
    "comparison_df = pd.DataFrame(comparison_data)\n",
    "comparison_df = comparison_df[(comparison_df['Train_Missing_%'] > 0) | (comparison_df['Test_Missing_%'] > 0)]\n",
    "comparison_df = comparison_df.sort_values('Train_Missing_%', ascending=False)\n",
    "print(comparison_df.head(20))"
   ]
  },
  {
   "cell_type": "code",
   "execution_count": null,
   "id": "8",
   "metadata": {},
   "outputs": [],
   "source": [
    "# カテゴリカル変数の詳細情報（欠損値処理のため）\n",
    "print(\"=== Categorical Variables Detailed Info ===\\n\")\n",
    "categorical_info = []\n",
    "for col in categorical_cols:\n",
    "    info = {\n",
    "        'Column': col,\n",
    "        'Unique_Count': df[col].nunique(),\n",
    "        'Missing_Rate_%': (df[col].isnull().sum() / len(df) * 100).round(2),\n",
    "        'Top_Value': df[col].mode()[0] if len(df[col].mode()) > 0 else None,\n",
    "        'Top_Value_Freq_%': (df[col].value_counts().iloc[0] / df[col].count() * 100).round(2) if df[col].count() > 0 else 0,\n",
    "        'Is_Ordinal': 'Unknown'  # 手動で判定が必要\n",
    "    }\n",
    "    categorical_info.append(info)\n",
    "\n",
    "cat_info_df = pd.DataFrame(categorical_info)\n",
    "print(cat_info_df.sort_values('Missing_Rate_%', ascending=False))"
   ]
  }
 ],
 "metadata": {
  "kernelspec": {
   "display_name": "base",
   "language": "python",
   "name": "python3"
  },
  "language_info": {
   "codemirror_mode": {
    "name": "ipython",
    "version": 3
   },
   "file_extension": ".py",
   "mimetype": "text/x-python",
   "name": "python",
   "nbconvert_exporter": "python",
   "pygments_lexer": "ipython3",
   "version": "3.12.7"
  }
 },
 "nbformat": 4,
 "nbformat_minor": 5
}
