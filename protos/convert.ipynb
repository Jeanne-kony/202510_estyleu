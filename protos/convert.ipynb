{
 "cells": [
  {
   "cell_type": "code",
   "execution_count": null,
   "id": "0",
   "metadata": {},
   "outputs": [],
   "source": [
    "from markitdown import MarkItDown\n",
    "import os\n",
    "import shutil\n",
    "\n",
    "# MarkItDownのインスタンスを作成\n",
    "md = MarkItDown()\n",
    "\n",
    "# 元のファイルパス\n",
    "docx_file = \"/Users/estyle-155/Documents/kaggle/kaggle_estyle/output/不動産価格予測コンペにおける欠損値処理と特徴量エンジニアリング戦略.docx\"\n",
    "\n",
    "# # .docxに拡張子を変更したファイルパス\n",
    "# docx_file = original_file.replace(\".docs\", \".docx\")\n",
    "\n",
    "# # ファイルをコピー（拡張子を.docxに変更）\n",
    "# if not os.path.exists(docx_file):\n",
    "#     shutil.copy(original_file, docx_file)\n",
    "#     print(f\"ファイルをコピーしました: {docx_file}\")\n",
    "\n",
    "# .docxファイルをマークダウンに変換\n",
    "result = md.convert(docx_file)\n",
    "\n",
    "# 変換結果をマークダウンファイルとして保存\n",
    "output_path = \"/Users/estyle-155/Documents/kaggle/kaggle_estyle/output/不動産価格予測コンペにおける欠損値処理と特徴量エンジニアリング戦略.md\"\n",
    "with open(output_path, \"w\", encoding=\"utf-8\") as f:\n",
    "    f.write(result.text_content)\n",
    "\n",
    "print(f\"変換完了: {output_path}\")"
   ]
  },
  {
   "cell_type": "code",
   "execution_count": null,
   "id": "1",
   "metadata": {},
   "outputs": [],
   "source": [
    "import re\n",
    "\n",
    "# 参考文献の記述を削除する関数\n",
    "def remove_references(text):\n",
    "    \"\"\"\n",
    "    マークダウンファイルから参考文献の記述を削除する\n",
    "    \n",
    "    パターン:\n",
    "    - [[数字]](file://...)\n",
    "    - [[数字]](http://...)\n",
    "    - [[数字]](https://...)\n",
    "    \"\"\"\n",
    "    # [[数字]](URL) の形式を削除\n",
    "    pattern = r'\\[\\[\\d+\\]\\]\\(file://[^\\)]+\\)'\n",
    "    text = re.sub(pattern, '', text)\n",
    "    \n",
    "    # http/https のパターンも削除\n",
    "    pattern = r'\\[\\[\\d+\\]\\]\\(https?://[^\\)]+\\)'\n",
    "    text = re.sub(pattern, '', text)\n",
    "    \n",
    "    return text\n",
    "\n",
    "# 変換されたファイルを読み込む\n",
    "with open(output_path, 'r', encoding='utf-8') as f:\n",
    "    content = f.read()\n",
    "\n",
    "# 参考文献を削除\n",
    "cleaned_content = remove_references(content)\n",
    "\n",
    "# クリーンアップされた内容を保存\n",
    "with open(output_path, 'w', encoding='utf-8') as f:\n",
    "    f.write(cleaned_content)\n",
    "\n",
    "print(f\"参考文献を削除しました: {output_path}\")"
   ]
  },
  {
   "cell_type": "code",
   "execution_count": null,
   "id": "2",
   "metadata": {},
   "outputs": [],
   "source": []
  }
 ],
 "metadata": {
  "kernelspec": {
   "display_name": "base",
   "language": "python",
   "name": "python3"
  },
  "language_info": {
   "codemirror_mode": {
    "name": "ipython",
    "version": 3
   },
   "file_extension": ".py",
   "mimetype": "text/x-python",
   "name": "python",
   "nbconvert_exporter": "python",
   "pygments_lexer": "ipython3",
   "version": "3.12.7"
  }
 },
 "nbformat": 4,
 "nbformat_minor": 5
}
