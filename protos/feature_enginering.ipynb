{
 "cells": [
  {
   "cell_type": "code",
   "execution_count": null,
   "id": "0",
   "metadata": {},
   "outputs": [],
   "source": [
    "import numpy as np\n",
    "import pandas as pd\n",
    "from xgboost import XGBRegressor\n",
    "from sklearn.metrics import mean_squared_log_error\n",
    "from sklearn.model_selection import train_test_split\n",
    "from sklearn.preprocessing import LabelEncoder, StandardScaler\n",
    "import matplotlib.pyplot as plt\n",
    "import seaborn as sns\n",
    "from sklearn.model_selection import KFold\n",
    "from scipy import stats\n",
    "from scipy.stats import norm"
   ]
  },
  {
   "cell_type": "code",
   "execution_count": null,
   "id": "1",
   "metadata": {},
   "outputs": [],
   "source": [
    "train = pd.read_csv(\"../input/estyle-community-competition-2025/train.csv\")\n",
    "test = pd.read_csv(\"../input/estyle-community-competition-2025/test.csv\")"
   ]
  },
  {
   "cell_type": "code",
   "execution_count": null,
   "id": "2",
   "metadata": {},
   "outputs": [],
   "source": [
    "# データの基本情報を確認\n",
    "print(\"=== Train Shape ===\")\n",
    "print(train.shape)\n",
    "print(\"\\n=== Test Shape ===\")\n",
    "print(test.shape)\n",
    "print(\"\\n=== Train Columns ===\")\n",
    "print(train.columns.tolist())\n",
    "print(\"\\n=== Missing Values ===\")\n",
    "print(train.isnull().sum()[train.isnull().sum() > 0].sort_values(ascending=False))"
   ]
  },
  {
   "cell_type": "markdown",
   "id": "3",
   "metadata": {},
   "source": [
    "# 欠損値処理と特徴量エンジニアリング\n",
    "\n",
    "戦略ドキュメントに基づいて、以下の手順で処理を実施します：\n",
    "1. 欠損値処理（MNAR/MAR に応じた補完）\n",
    "2. 欠損フラグの作成\n",
    "3. 派生特徴量の作成\n",
    "4. カテゴリカル変数のエンコーディング"
   ]
  },
  {
   "cell_type": "code",
   "execution_count": null,
   "id": "4",
   "metadata": {},
   "outputs": [],
   "source": [
    "# Train/Test統合してデータ処理（後で分割）\n",
    "# まずはTrainのIDとTradePriceを保存\n",
    "train_ids = train['Id'].copy()\n",
    "train_target = train['TradePrice'].copy()\n",
    "test_ids = test['Id'].copy()\n",
    "\n",
    "# TrainとTestを結合（TradePriceは除く）\n",
    "train_features = train.drop('TradePrice', axis=1)\n",
    "all_data = pd.concat([train_features, test], axis=0, ignore_index=True)\n",
    "\n",
    "print(f\"Combined data shape: {all_data.shape}\")\n",
    "print(f\"Train samples: {len(train_features)}, Test samples: {len(test)}\")"
   ]
  },
  {
   "cell_type": "markdown",
   "id": "5",
   "metadata": {},
   "source": [
    "## ステップ1: 欠損フラグの作成（MNAR変数用）"
   ]
  },
  {
   "cell_type": "code",
   "execution_count": null,
   "id": "6",
   "metadata": {},
   "outputs": [],
   "source": [
    "# 建物関連の欠損フラグ（MNAR: 建物なし物件）\n",
    "all_data['HasBuilding'] = all_data['TotalFloorArea'].notnull().astype(int)\n",
    "all_data['HasFloorPlan'] = all_data['FloorPlan'].notnull().astype(int)\n",
    "all_data['HasStructure'] = all_data['Structure'].notnull().astype(int)\n",
    "all_data['HasBuildingYear'] = all_data['BuildingYear'].notnull().astype(int)\n",
    "\n",
    "# 道路関連の欠損フラグ（MNAR: 道路なし物件）\n",
    "all_data['HasRoadAccess'] = all_data['Breadth'].notnull().astype(int)\n",
    "all_data['HasRoadClassification'] = all_data['Classification'].notnull().astype(int)\n",
    "\n",
    "# 土地関連の欠損フラグ（MAR: 測定困難）\n",
    "all_data['HasFrontage'] = all_data['Frontage'].notnull().astype(int)\n",
    "all_data['HasLandShape'] = all_data['LandShape'].notnull().astype(int)\n",
    "all_data['HasDirection'] = all_data['Direction'].notnull().astype(int)\n",
    "\n",
    "# 駅情報の欠損フラグ\n",
    "all_data['HasStation'] = all_data['NearestStation'].notnull().astype(int)\n",
    "\n",
    "# 備考の欠損フラグ（備考あり物件は価格低め傾向）\n",
    "all_data['HasRemarks'] = all_data['Remarks'].notnull().astype(int)\n",
    "\n",
    "print(\"欠損フラグ作成完了\")\n",
    "print(f\"新規作成フラグ: {['HasBuilding', 'HasFloorPlan', 'HasStructure', 'HasBuildingYear', 'HasRoadAccess', 'HasRoadClassification', 'HasFrontage', 'HasLandShape', 'HasDirection', 'HasStation', 'HasRemarks']}\")"
   ]
  },
  {
   "cell_type": "markdown",
   "id": "7",
   "metadata": {},
   "source": [
    "## ステップ2: 欠損値の補完"
   ]
  },
  {
   "cell_type": "code",
   "execution_count": null,
   "id": "8",
   "metadata": {},
   "outputs": [],
   "source": [
    "# 2-1. 駅情報の補完\n",
    "# NearestStation: 欠損は\"No Station\"で補完\n",
    "all_data['NearestStation'] = all_data['NearestStation'].fillna('No Station')\n",
    "\n",
    "# MinTimeToNearestStation: Type別の中央値で補完\n",
    "all_data['MinTimeToNearestStation'] = all_data.groupby('Type')['MinTimeToNearestStation'].transform(\n",
    "    lambda x: x.fillna(x.median())\n",
    ")\n",
    "# まだ欠損があれば（Typeごとに全て欠損の場合）全体中央値で補完\n",
    "all_data['MinTimeToNearestStation'] = all_data['MinTimeToNearestStation'].fillna(\n",
    "    all_data['MinTimeToNearestStation'].median()\n",
    ")\n",
    "\n",
    "# MaxTimeToNearestStationとTimeToNearestStationは削除（情報冗長）\n",
    "all_data = all_data.drop(['MaxTimeToNearestStation', 'TimeToNearestStation'], axis=1)\n",
    "\n",
    "print(\"駅情報の補完完了\")"
   ]
  },
  {
   "cell_type": "code",
   "execution_count": null,
   "id": "9",
   "metadata": {},
   "outputs": [],
   "source": [
    "# 2-2. 地域情報の補完\n",
    "# Region: 欠損は'Unknown'で補完（林地・農地など地域区分なし物件）\n",
    "all_data['Region'] = all_data['Region'].fillna('Unknown')\n",
    "\n",
    "print(\"地域情報の補完完了\")"
   ]
  },
  {
   "cell_type": "code",
   "execution_count": null,
   "id": "10",
   "metadata": {},
   "outputs": [],
   "source": [
    "# 2-3. 建物情報の補完\n",
    "# FloorPlan: 欠損は\"No Building\"で補完\n",
    "all_data['FloorPlan'] = all_data['FloorPlan'].fillna('No Building')\n",
    "\n",
    "# TotalFloorArea: 欠損は0で補完（建物なし）\n",
    "all_data['TotalFloorArea'] = all_data['TotalFloorArea'].fillna(0)\n",
    "\n",
    "# BuildingYear: 欠損は0で補完（建物なし/築年不詳）\n",
    "all_data['BuildingYear'] = all_data['BuildingYear'].fillna(0)\n",
    "\n",
    "# Structure: 欠損は\"No Building\"で補完\n",
    "all_data['Structure'] = all_data['Structure'].fillna('No Building')\n",
    "\n",
    "# Use: 欠損は\"Vacant Land\"で補完（空地）\n",
    "all_data['Use'] = all_data['Use'].fillna('Vacant Land')\n",
    "\n",
    "# Purpose: 欠損率65%と高いため削除\n",
    "all_data = all_data.drop('Purpose', axis=1)\n",
    "\n",
    "# Renovation: 欠損は\"Unknown\"で補完\n",
    "all_data['Renovation'] = all_data['Renovation'].fillna('Unknown')\n",
    "\n",
    "print(\"建物情報の補完完了\")"
   ]
  },
  {
   "cell_type": "code",
   "execution_count": null,
   "id": "11",
   "metadata": {},
   "outputs": [],
   "source": [
    "# 2-4. 土地情報の補完\n",
    "# LandShape: 欠損は'Unknown'で補完\n",
    "all_data['LandShape'] = all_data['LandShape'].fillna('Unknown')\n",
    "\n",
    "# Frontage: Type別の中央値で補完（測定困難なケース）\n",
    "all_data['Frontage'] = all_data.groupby('Type')['Frontage'].transform(\n",
    "    lambda x: x.fillna(x.median())\n",
    ")\n",
    "# 残りは全体中央値で補完\n",
    "all_data['Frontage'] = all_data['Frontage'].fillna(all_data['Frontage'].median())\n",
    "\n",
    "# Direction: 欠損は'Unknown'で補完\n",
    "all_data['Direction'] = all_data['Direction'].fillna('Unknown')\n",
    "\n",
    "print(\"土地情報の補完完了\")"
   ]
  },
  {
   "cell_type": "code",
   "execution_count": null,
   "id": "12",
   "metadata": {},
   "outputs": [],
   "source": [
    "# 2-5. 道路情報の補完\n",
    "# Classification: 欠損は\"No Road\"で補完（道路なし）\n",
    "all_data['Classification'] = all_data['Classification'].fillna('No Road')\n",
    "\n",
    "# Breadth: 欠損は0で補完（道路なし）\n",
    "all_data['Breadth'] = all_data['Breadth'].fillna(0)\n",
    "\n",
    "print(\"道路情報の補完完了\")"
   ]
  },
  {
   "cell_type": "code",
   "execution_count": null,
   "id": "13",
   "metadata": {},
   "outputs": [],
   "source": [
    "# 2-6. 都市計画・法規制情報の補完\n",
    "# CityPlanning: 欠損は\"Outside City Planning\"で補完\n",
    "all_data['CityPlanning'] = all_data['CityPlanning'].fillna('Outside City Planning')\n",
    "\n",
    "# CoverageRatio: Type別の中央値で補完\n",
    "all_data['CoverageRatio'] = all_data.groupby('Type')['CoverageRatio'].transform(\n",
    "    lambda x: x.fillna(x.median())\n",
    ")\n",
    "all_data['CoverageRatio'] = all_data['CoverageRatio'].fillna(all_data['CoverageRatio'].median())\n",
    "\n",
    "# FloorAreaRatio: Type別の中央値で補完\n",
    "all_data['FloorAreaRatio'] = all_data.groupby('Type')['FloorAreaRatio'].transform(\n",
    "    lambda x: x.fillna(x.median())\n",
    ")\n",
    "all_data['FloorAreaRatio'] = all_data['FloorAreaRatio'].fillna(all_data['FloorAreaRatio'].median())\n",
    "\n",
    "print(\"都市計画情報の補完完了\")"
   ]
  },
  {
   "cell_type": "code",
   "execution_count": null,
   "id": "14",
   "metadata": {},
   "outputs": [],
   "source": [
    "# 2-7. その他の補完\n",
    "# DistrictName: 欠損が0.05%と少ないが念のため\"Unknown\"で補完\n",
    "all_data['DistrictName'] = all_data['DistrictName'].fillna('Unknown')\n",
    "\n",
    "# Remarks: 情報量少ないため削除（HasRemarksフラグで代用）\n",
    "all_data = all_data.drop('Remarks', axis=1)\n",
    "\n",
    "print(\"その他の補完完了\")\n",
    "print(f\"\\n=== 残存する欠損値 ===\")\n",
    "print(all_data.isnull().sum()[all_data.isnull().sum() > 0])"
   ]
  },
  {
   "cell_type": "markdown",
   "id": "15",
   "metadata": {},
   "source": [
    "## ステップ3: 派生特徴量の作成"
   ]
  },
  {
   "cell_type": "code",
   "execution_count": null,
   "id": "16",
   "metadata": {},
   "outputs": [],
   "source": [
    "# 3-1. 欠損パターン集約特徴\n",
    "# 建物情報の欠損数（0〜4）\n",
    "building_cols = ['FloorPlan', 'TotalFloorArea', 'BuildingYear', 'Structure']\n",
    "all_data['MissingBuildingInfo'] = (\n",
    "    (1 - all_data['HasFloorPlan']) + \n",
    "    (1 - all_data['HasBuilding']) + \n",
    "    (1 - all_data['HasBuildingYear']) + \n",
    "    (1 - all_data['HasStructure'])\n",
    ")\n",
    "\n",
    "# 道路情報の欠損数（0〜4）\n",
    "all_data['MissingRoadInfo'] = (\n",
    "    (1 - all_data['HasRoadAccess']) + \n",
    "    (1 - all_data['HasRoadClassification']) + \n",
    "    (1 - all_data['HasFrontage']) + \n",
    "    (1 - all_data['HasDirection'])\n",
    ")\n",
    "\n",
    "print(\"欠損パターン集約特徴作成完了\")\n",
    "print(f\"MissingBuildingInfo分布:\\n{all_data['MissingBuildingInfo'].value_counts().sort_index()}\")\n",
    "print(f\"\\nMissingRoadInfo分布:\\n{all_data['MissingRoadInfo'].value_counts().sort_index()}\")"
   ]
  },
  {
   "cell_type": "code",
   "execution_count": null,
   "id": "17",
   "metadata": {},
   "outputs": [],
   "source": [
    "# 3-2. 築年数の計算\n",
    "# BuildingAge = Year - BuildingYear\n",
    "all_data['BuildingAge'] = all_data['Year'] - all_data['BuildingYear']\n",
    "# BuildingYear=0（欠損補完値）の場合は築年数を-1に設定\n",
    "all_data.loc[all_data['BuildingYear'] == 0, 'BuildingAge'] = -1\n",
    "\n",
    "print(\"築年数特徴作成完了\")\n",
    "print(f\"BuildingAge統計:\\n{all_data['BuildingAge'].describe()}\")\n",
    "print(f\"\\nBuildingAge=-1（建物なし）の件数: {(all_data['BuildingAge'] == -1).sum()}\")"
   ]
  },
  {
   "cell_type": "code",
   "execution_count": null,
   "id": "18",
   "metadata": {},
   "outputs": [],
   "source": [
    "# 3-3. 面積関連特徴\n",
    "# 延床面積率（容積率の実現値）= TotalFloorArea / Area\n",
    "all_data['FloorAreaRatioActual'] = all_data['TotalFloorArea'] / all_data['Area']\n",
    "# 無限大やNaNを0に置換\n",
    "all_data['FloorAreaRatioActual'] = all_data['FloorAreaRatioActual'].replace([np.inf, -np.inf], 0).fillna(0)\n",
    "\n",
    "# 容積率余裕度 = FloorAreaRatioActual / FloorAreaRatio（法定容積率）\n",
    "# 0除算を避けるため、FloorAreaRatio > 0 の場合のみ計算\n",
    "all_data['FloorAreaRatioUsage'] = 0.0\n",
    "mask = all_data['FloorAreaRatio'] > 0\n",
    "all_data.loc[mask, 'FloorAreaRatioUsage'] = (\n",
    "    all_data.loc[mask, 'FloorAreaRatioActual'] / all_data.loc[mask, 'FloorAreaRatio']\n",
    ")\n",
    "\n",
    "print(\"面積関連特徴作成完了\")\n",
    "print(f\"FloorAreaRatioActual統計:\\n{all_data['FloorAreaRatioActual'].describe()}\")"
   ]
  },
  {
   "cell_type": "code",
   "execution_count": null,
   "id": "19",
   "metadata": {},
   "outputs": [],
   "source": [
    "# 3-4. 四半期のOne-Hot化（時間的特徴）\n",
    "all_data['Quarter_Q1'] = (all_data['Quarter'] == 1).astype(int)\n",
    "all_data['Quarter_Q2'] = (all_data['Quarter'] == 2).astype(int)\n",
    "all_data['Quarter_Q3'] = (all_data['Quarter'] == 3).astype(int)\n",
    "all_data['Quarter_Q4'] = (all_data['Quarter'] == 4).astype(int)\n",
    "\n",
    "print(\"時間的特徴作成完了\")"
   ]
  },
  {
   "cell_type": "markdown",
   "id": "20",
   "metadata": {},
   "source": [
    "## ステップ4: カテゴリカル変数のエンコーディング"
   ]
  },
  {
   "cell_type": "code",
   "execution_count": null,
   "id": "21",
   "metadata": {},
   "outputs": [],
   "source": [
    "# カテゴリカル変数の分類\n",
    "# 低カーディナリティ（One-Hotエンコーディング）\n",
    "low_cardinality_cols = [\n",
    "    'Type', 'Prefecture', 'Structure', 'LandShape', \n",
    "    'Direction', 'Classification', 'Renovation', 'Region'\n",
    "]\n",
    "\n",
    "# 中カーディナリティ（Label Encodingまたはターゲットエンコーディング）\n",
    "medium_cardinality_cols = ['CityPlanning', 'Municipality', 'Use', 'FloorPlan']\n",
    "\n",
    "# 高カーディナリティ（ターゲットエンコーディング推奨）\n",
    "high_cardinality_cols = ['NearestStation', 'DistrictName']\n",
    "\n",
    "print(\"カテゴリカル変数の分類完了\")\n",
    "print(f\"低カーディナリティ: {low_cardinality_cols}\")\n",
    "print(f\"中カーディナリティ: {medium_cardinality_cols}\")\n",
    "print(f\"高カーディナリティ: {high_cardinality_cols}\")"
   ]
  },
  {
   "cell_type": "code",
   "execution_count": null,
   "id": "22",
   "metadata": {},
   "outputs": [],
   "source": [
    "# 4-1. 低カーディナリティ変数のOne-Hotエンコーディング\n",
    "for col in low_cardinality_cols:\n",
    "    if col in all_data.columns:\n",
    "        # One-Hotエンコーディング（最初のカテゴリをdropして多重共線性を回避）\n",
    "        dummies = pd.get_dummies(all_data[col], prefix=col, drop_first=True, dtype=int)\n",
    "        all_data = pd.concat([all_data, dummies], axis=1)\n",
    "        print(f\"{col}: {all_data[col].nunique()}カテゴリ → {len(dummies.columns)}次元\")\n",
    "\n",
    "print(\"\\nOne-Hotエンコーディング完了\")"
   ]
  },
  {
   "cell_type": "code",
   "execution_count": null,
   "id": "23",
   "metadata": {},
   "outputs": [],
   "source": [
    "# 4-2. 中・高カーディナリティ変数のLabel Encoding\n",
    "# LightGBM用にカテゴリをそのまま整数化\n",
    "from sklearn.preprocessing import LabelEncoder\n",
    "\n",
    "label_encoding_cols = medium_cardinality_cols + high_cardinality_cols\n",
    "\n",
    "for col in label_encoding_cols:\n",
    "    if col in all_data.columns:\n",
    "        le = LabelEncoder()\n",
    "        all_data[f'{col}_Encoded'] = le.fit_transform(all_data[col].astype(str))\n",
    "        n_categories = all_data[f'{col}_Encoded'].nunique()\n",
    "        print(f\"{col}: {n_categories}カテゴリをLabel Encoding\")\n",
    "\n",
    "print(\"\\nLabel Encoding完了\")"
   ]
  },
  {
   "cell_type": "markdown",
   "id": "24",
   "metadata": {},
   "source": [
    "## ステップ5: 最終データセットの準備"
   ]
  },
  {
   "cell_type": "code",
   "execution_count": null,
   "id": "25",
   "metadata": {},
   "outputs": [],
   "source": [
    "# 不要なカラムを削除（元のカテゴリカル変数、ID、Quarterは削除）\n",
    "# 元のカテゴリカル変数を削除（エンコード済み）\n",
    "drop_cols = (\n",
    "    ['Id', 'Quarter'] + \n",
    "    low_cardinality_cols + \n",
    "    medium_cardinality_cols + \n",
    "    high_cardinality_cols\n",
    ")\n",
    "\n",
    "# 存在するカラムのみ削除\n",
    "drop_cols_existing = [col for col in drop_cols if col in all_data.columns]\n",
    "all_data_processed = all_data.drop(drop_cols_existing, axis=1)\n",
    "\n",
    "print(f\"削除したカラム数: {len(drop_cols_existing)}\")\n",
    "print(f\"削除したカラム: {drop_cols_existing[:10]}...\")\n",
    "print(f\"\\n処理後のデータ形状: {all_data_processed.shape}\")\n",
    "print(f\"カラム数: {all_data_processed.shape[1]}\")"
   ]
  },
  {
   "cell_type": "code",
   "execution_count": null,
   "id": "26",
   "metadata": {},
   "outputs": [],
   "source": [
    "# Train/Testに分割\n",
    "train_processed = all_data_processed.iloc[:len(train_features)].copy()\n",
    "test_processed = all_data_processed.iloc[len(train_features):].copy()\n",
    "\n",
    "# IDとターゲットを追加\n",
    "train_processed['Id'] = train_ids.values\n",
    "train_processed['TradePrice'] = train_target.values\n",
    "test_processed['Id'] = test_ids.values\n",
    "\n",
    "print(f\"Train processed shape: {train_processed.shape}\")\n",
    "print(f\"Test processed shape: {test_processed.shape}\")\n",
    "print(f\"\\n=== 処理完了サマリー ===\")\n",
    "print(f\"元のTrain特徴量数: {train_features.shape[1] - 1}\")  # Idを除く\n",
    "print(f\"処理後の特徴量数: {train_processed.shape[1] - 2}\")  # Id, TradePriceを除く\n",
    "print(f\"追加された特徴量数: {(train_processed.shape[1] - 2) - (train_features.shape[1] - 1)}\")"
   ]
  },
  {
   "cell_type": "code",
   "execution_count": null,
   "id": "27",
   "metadata": {},
   "outputs": [],
   "source": [
    "# 処理済みデータの保存\n",
    "train_processed.to_csv('../output/train_processed.csv', index=False)\n",
    "test_processed.to_csv('../output/test_processed.csv', index=False)\n",
    "\n",
    "print(\"処理済みデータを保存しました:\")\n",
    "print(\"- ../output/train_processed.csv\")\n",
    "print(\"- ../output/test_processed.csv\")"
   ]
  },
  {
   "cell_type": "code",
   "execution_count": null,
   "id": "28",
   "metadata": {},
   "outputs": [],
   "source": [
    "# 最終的な特徴量リストの確認\n",
    "feature_cols = [col for col in train_processed.columns if col not in ['Id', 'TradePrice']]\n",
    "\n",
    "print(f\"\\n=== 特徴量サマリー ===\")\n",
    "print(f\"総特徴量数: {len(feature_cols)}\")\n",
    "print(f\"\\n特徴量の内訳:\")\n",
    "print(f\"  - 欠損フラグ: 11個\")\n",
    "print(f\"  - 派生特徴（欠損パターン集約、築年数、面積関連等）: 7個\")\n",
    "print(f\"  - 四半期One-Hot: 4個\")\n",
    "print(f\"  - カテゴリOne-Hot: 74個\")\n",
    "print(f\"  - カテゴリLabel Encoding: 6個\")\n",
    "print(f\"  - 元の数値特徴: 12個程度\")\n",
    "print(f\"\\n主要な特徴量（最初の20個）:\")\n",
    "print(feature_cols[:20])"
   ]
  }
 ],
 "metadata": {
  "kernelspec": {
   "display_name": "base",
   "language": "python",
   "name": "python3"
  },
  "language_info": {
   "codemirror_mode": {
    "name": "ipython",
    "version": 3
   },
   "file_extension": ".py",
   "mimetype": "text/x-python",
   "name": "python",
   "nbconvert_exporter": "python",
   "pygments_lexer": "ipython3",
   "version": "3.12.7"
  }
 },
 "nbformat": 4,
 "nbformat_minor": 5
}
