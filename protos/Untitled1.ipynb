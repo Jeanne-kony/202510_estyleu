{
 "cells": [
  {
   "cell_type": "code",
   "execution_count": null,
   "metadata": {
    "id": "lbaiEhemiJhA"
   },
   "outputs": [],
   "source": [
    "import numpy as np # linear algebra\n",
    "import pandas as pd # data processing, CSV file I/O (e.g. pd.read_csv)\n",
    "from scipy.stats import skew\n",
    "from scipy.special import boxcox1p\n",
    "from scipy.stats import boxcox_normmax\n",
    "from scipy.stats import boxcox\n",
    "from scipy.special import inv_boxcox\n",
    "import seaborn as sb\n",
    "import matplotlib.pyplot as plt\n",
    "import lightgbm as lgb\n",
    "import xgboost as xgb\n",
    "from sklearn.neural_network import MLPRegressor\n",
    "from sklearn.model_selection import train_test_split\n",
    "from sklearn.model_selection import RandomizedSearchCV, KFold,GridSearchCV\n",
    "from sklearn.metrics import r2_score,mean_absolute_error,mean_squared_error\n",
    "from sklearn.preprocessing import StandardScaler,RobustScaler,LabelEncoder,PowerTransformer\n",
    "from sklearn.ensemble import GradientBoostingRegressor,StackingRegressor, RandomForestRegressor, ExtraTreesRegressor\n",
    "from sklearn.linear_model import ElasticNetCV, LassoCV, RidgeCV\n",
    "from sklearn.model_selection import KFold, cross_val_score\n",
    "from sklearn.pipeline import make_pipeline\n",
    "from sklearn.tree import DecisionTreeRegressor\n",
    "from sklearn.cluster import DBSCAN\n",
    "from sklearn.neighbors import NearestNeighbors\n",
    "from sklearn.decomposition import PCA\n",
    "\n",
    "\n",
    "\n",
    "# Input data files are available in the \"../input/\" directory.\n",
    "# For example, running this (by clicking run or pressing Shift+Enter) will list all files under the input directory\n",
    "\n",
    "import warnings\n",
    "warnings.filterwarnings(\"ignore\")\n",
    "\n",
    "pd.set_option('display.max_columns', 5000)\n",
    "pd.set_option('display.max_rows', 5000)\n"
   ]
  },
  {
   "cell_type": "code",
   "execution_count": null,
   "metadata": {
    "id": "XMI49IDLiWkM"
   },
   "outputs": [],
   "source": [
    "train = pd.read_csv('/content/drive/MyDrive/kaggle/kaggle_estyle/input/estyle-community-competition-2025/train.csv')\n",
    "test = pd.read_csv('/content/drive/MyDrive/kaggle/kaggle_estyle/input/estyle-community-competition-2025/test.csv')\n",
    "sample_sub = pd.read_csv('/content/drive/MyDrive/kaggle/kaggle_estyle/input/estyle-community-competition-2025/sample_submission.csv')"
   ]
  },
  {
   "cell_type": "code",
   "execution_count": null,
   "metadata": {
    "colab": {
     "base_uri": "https://localhost:8080/",
     "height": 382
    },
    "id": "0FHTwM1Eq8ip",
    "outputId": "6be20b05-1f05-49a2-8675-1366f7e48277"
   },
   "outputs": [],
   "source": [
    "train.head()"
   ]
  },
  {
   "cell_type": "code",
   "execution_count": null,
   "metadata": {
    "colab": {
     "base_uri": "https://localhost:8080/"
    },
    "id": "ogvoFYEiq1U8",
    "outputId": "41dc628a-531b-441e-c35c-79a87b35eddb"
   },
   "outputs": [],
   "source": [
    "train.info()"
   ]
  },
  {
   "cell_type": "code",
   "execution_count": null,
   "metadata": {
    "id": "tdNWR6qzrYE9"
   },
   "outputs": [],
   "source": [
    "bad_cols = [c for c in train.columns if train[c].dtype != 'object' and pd.to_numeric(train[c], errors='coerce').isna().sum() > train[c].isna().sum()]\n"
   ]
  },
  {
   "cell_type": "code",
   "execution_count": null,
   "metadata": {
    "colab": {
     "base_uri": "https://localhost:8080/"
    },
    "id": "CjsKCC21rhBG",
    "outputId": "b3212bb4-f141-4f55-d44c-c25732c92ceb"
   },
   "outputs": [],
   "source": [
    "print(bad_cols)"
   ]
  },
  {
   "cell_type": "code",
   "execution_count": null,
   "metadata": {
    "colab": {
     "base_uri": "https://localhost:8080/",
     "height": 512
    },
    "id": "j5CsHCbVipHG",
    "outputId": "82b8bd10-d0fb-4496-f8b6-fc5dc63b2423"
   },
   "outputs": [],
   "source": [
    "correlation_train=train.select_dtypes(include='number').corr()\n",
    "sb.set(font_scale=2)\n",
    "plt.figure(figsize = (50,35))\n",
    "ax = sb.heatmap(correlation_train, annot=True,annot_kws={\"size\": 25},fmt='.1f',cmap='PiYG', linewidths=.5)"
   ]
  },
  {
   "cell_type": "code",
   "execution_count": null,
   "metadata": {
    "colab": {
     "base_uri": "https://localhost:8080/"
    },
    "id": "orDY66Bcjnqd",
    "outputId": "b1368219-e1ed-4534-9a44-516f2e5f9fde"
   },
   "outputs": [],
   "source": [
    "corr_dict=correlation_train['TradePrice'].sort_values(ascending=False).to_dict()\n",
    "important_columns=[]\n",
    "for key,value in corr_dict.items():\n",
    "    if ((value>0.1) & (value<0.8)) | (value<=-0.1):\n",
    "        important_columns.append(key)\n",
    "important_columns"
   ]
  },
  {
   "cell_type": "code",
   "execution_count": null,
   "metadata": {
    "id": "pbkqhnNzlF7p"
   },
   "outputs": [],
   "source": [
    "# plt.figure(figsize=(40,20))\n",
    "# sb.set(font_scale=1.5)\n",
    "# sb.boxplot(x='BuildingYear', y=\"TradePrice\", data=train)\n",
    "# sb.swarmplot(x='BuildingYear', y=\"TradePrice\", data=train, color=\".25\")\n",
    "# plt.xticks(weight='bold',rotation=90)"
   ]
  },
  {
   "cell_type": "code",
   "execution_count": null,
   "metadata": {
    "colab": {
     "base_uri": "https://localhost:8080/",
     "height": 382
    },
    "id": "ec55zbJNl-yH",
    "outputId": "95260217-12a8-44fb-bd9c-8f7186308d26"
   },
   "outputs": [],
   "source": [
    "train_test=pd.concat([train,test],axis=0,sort=False)\n",
    "train_test.head()"
   ]
  },
  {
   "cell_type": "code",
   "execution_count": null,
   "metadata": {
    "colab": {
     "base_uri": "https://localhost:8080/",
     "height": 1000
    },
    "id": "SDHyMCgQmLZx",
    "outputId": "985341bb-cc0c-4d2b-e8b4-f8543cd6fd48"
   },
   "outputs": [],
   "source": [
    "pd.set_option('display.max_rows', 5000)\n",
    "train_test_null_info=pd.DataFrame(train_test.isnull().sum(),columns=['Count of NaN'])\n",
    "train_test_dtype_info=pd.DataFrame(train_test.dtypes,columns=['DataTypes'])\n",
    "train_tes_info=pd.concat([train_test_null_info,train_test_dtype_info],axis=1)\n",
    "train_tes_info"
   ]
  },
  {
   "cell_type": "code",
   "execution_count": null,
   "metadata": {
    "id": "fYsuQeR-mWXz"
   },
   "outputs": [],
   "source": []
  },
  {
   "cell_type": "markdown",
   "metadata": {
    "id": "NODLHFY1oN5x"
   },
   "source": [
    "# Create Model"
   ]
  },
  {
   "cell_type": "code",
   "execution_count": null,
   "metadata": {
    "colab": {
     "base_uri": "https://localhost:8080/",
     "height": 434
    },
    "id": "fr2aiyyaql3v",
    "outputId": "a30070f9-9067-403d-fdd0-ae95c73c85e6"
   },
   "outputs": [],
   "source": [
    "test.head()"
   ]
  },
  {
   "cell_type": "code",
   "execution_count": null,
   "metadata": {
    "id": "5VUSn7gNaY4C"
   },
   "outputs": [],
   "source": []
  },
  {
   "cell_type": "code",
   "execution_count": null,
   "metadata": {
    "id": "WlSMKOqXtUGt"
   },
   "outputs": [],
   "source": [
    "# 特徴量列を明示的に固定（Id と 目的変数を除く）\n",
    "feature_cols = [c for c in train.columns if c not in ['Id', 'TradePrice']]\n",
    "\n",
    "X = train[feature_cols]\n",
    "y = train['TradePrice']\n"
   ]
  },
  {
   "cell_type": "code",
   "execution_count": null,
   "metadata": {
    "id": "NDOu19FdaZkn"
   },
   "outputs": [],
   "source": [
    "obj_cols = X.select_dtypes(include=['object']).columns"
   ]
  },
  {
   "cell_type": "code",
   "execution_count": null,
   "metadata": {
    "id": "F_yVWpclaZe4"
   },
   "outputs": [],
   "source": [
    "from sklearn.preprocessing import LabelEncoder\n",
    "import pandas as pd\n",
    "\n",
    "for col in obj_cols:  # 文字列列の一覧\n",
    "    le = LabelEncoder()\n",
    "    both = pd.concat([X[col].fillna(\"__MISSING__\"),\n",
    "                      test[col].fillna(\"__MISSING__\")], axis=0)\n",
    "    le.fit(both)\n",
    "    X[col]    = le.transform(X[col].fillna(\"__MISSING__\"))\n",
    "    test[col] = le.transform(test[col].fillna(\"__MISSING__\"))\n"
   ]
  },
  {
   "cell_type": "markdown",
   "metadata": {},
   "source": [
    "## データの状態チェック"
   ]
  },
  {
   "cell_type": "code",
   "execution_count": null,
   "metadata": {},
   "outputs": [],
   "source": [
    "# エンコード後の訓練データとテストデータの確認\n",
    "print(\"=== X (訓練データ) の状態 ===\")\n",
    "print(X.head())\n",
    "print(\"\\nX の型情報:\")\n",
    "print(X.dtypes)\n",
    "print(\"\\nX の欠損値:\")\n",
    "print(X.isnull().sum()[X.isnull().sum() > 0])\n",
    "\n",
    "print(\"\\n\" + \"=\"*50)\n",
    "print(\"=== test (テストデータ) の状態 ===\")\n",
    "print(test.head())\n",
    "print(\"\\ntest の型情報:\")\n",
    "print(test.dtypes)\n",
    "print(\"\\ntest の欠損値:\")\n",
    "print(test.isnull().sum()[test.isnull().sum() > 0])"
   ]
  },
  {
   "cell_type": "code",
   "execution_count": null,
   "metadata": {},
   "outputs": [],
   "source": [
    "# 提出用のテストデータの確認\n",
    "print(\"=== sub_test (提出用テストデータ) の確認 ===\")\n",
    "print(f\"feature_cols の数: {len(feature_cols)}\")\n",
    "print(f\"sub_test の shape: {test[feature_cols].shape}\")\n",
    "print(\"\\n最初の5行:\")\n",
    "print(test[feature_cols].head())\n",
    "\n",
    "# 訓練データとテストデータで列の型が一致しているか確認\n",
    "print(\"\\n=== 型の一致確認 ===\")\n",
    "for col in feature_cols[:10]:  # 最初の10列を確認\n",
    "    if col in X.columns and col in test.columns:\n",
    "        print(f\"{col}: X={X[col].dtype}, test={test[col].dtype}, 一致={X[col].dtype == test[col].dtype}\")"
   ]
  },
  {
   "cell_type": "code",
   "execution_count": null,
   "metadata": {
    "colab": {
     "base_uri": "https://localhost:8080/"
    },
    "id": "EGAvAnKvs4qF",
    "outputId": "3273dd07-94cc-4b6f-b4af-76208ab1498f"
   },
   "outputs": [],
   "source": [
    "X_train,X_test,y_train,y_test=train_test_split(X,y,test_size=0.2,random_state=52)\n",
    "print('X_train Shape :',X_train.shape)\n",
    "print('X_test Shape :',X_test.shape)\n",
    "print('y_train Shape :',y_train.shape)\n",
    "print('y_test Shape :',y_test.shape)"
   ]
  },
  {
   "cell_type": "code",
   "execution_count": null,
   "metadata": {
    "id": "WucJNKp9FvqU"
   },
   "outputs": [],
   "source": []
  },
  {
   "cell_type": "code",
   "execution_count": null,
   "metadata": {
    "id": "zEnJMoL8Tknx"
   },
   "outputs": [],
   "source": []
  },
  {
   "cell_type": "code",
   "execution_count": null,
   "metadata": {
    "colab": {
     "base_uri": "https://localhost:8080/"
    },
    "id": "th0oN3R6ppy8",
    "outputId": "f10311b2-68db-4571-fbcd-2b2c1be50b7a"
   },
   "outputs": [],
   "source": [
    "lgb_regressor=lgb.LGBMRegressor(\n",
    "    n_estimators=1000,\n",
    "    learning_rate=0.05,\n",
    "    feature_fraction=0.201,   # colsample_bytree は書かない\n",
    "    bagging_fraction=0.65,    # subsample は書かない\n",
    "    bagging_freq=5,           # subsample_freq は書かない\n",
    "    n_jobs=-1,\n",
    "    # 必要なら：\n",
    "    # force_row_wise=True\n",
    ")\n",
    "lgb_regressor.fit(X_train, y_train)\n",
    "y_head=lgb_regressor.predict(X_test)\n",
    "print('-'*10+'LGBM'+'-'*10)\n",
    "print('R square Accuracy: ',r2_score(y_test,y_head))\n",
    "print('Mean Absolute Error Accuracy: ',mean_absolute_error(y_test,y_head))\n",
    "print('Mean Squared Error Accuracy: ',mean_squared_error(y_test,y_head))"
   ]
  },
  {
   "cell_type": "code",
   "execution_count": null,
   "metadata": {
    "colab": {
     "base_uri": "https://localhost:8080/"
    },
    "id": "d6yrf5S6qkP7",
    "outputId": "7d771ae2-12ca-4168-dc26-b2d880538d9d"
   },
   "outputs": [],
   "source": [
    "test_ids = test['Id'].copy()\n",
    "sub_test  = test[feature_cols]\n",
    "test_pred = lgb_regressor.predict(sub_test)\n",
    "\n",
    "submission = pd.DataFrame({'Id': test_ids, 'TradePrice': test_pred})"
   ]
  },
  {
   "cell_type": "code",
   "execution_count": null,
   "metadata": {
    "id": "hQqydXRigvi-"
   },
   "outputs": [],
   "source": [
    "submission.to_csv('/content/drive/MyDrive/kaggle/kaggle_estyle/output/Sample_submit.csv',index=False)"
   ]
  },
  {
   "cell_type": "code",
   "execution_count": null,
   "metadata": {
    "id": "EXdPd5BzhzJK"
   },
   "outputs": [],
   "source": []
  }
 ],
 "metadata": {
  "colab": {
   "gpuType": "A100",
   "machine_shape": "hm",
   "provenance": []
  },
  "kernelspec": {
   "display_name": "Python 3",
   "name": "python3"
  },
  "language_info": {
   "name": "python"
  }
 },
 "nbformat": 4,
 "nbformat_minor": 0
}
